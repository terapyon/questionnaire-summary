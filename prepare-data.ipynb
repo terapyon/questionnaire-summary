{
 "cells": [
  {
   "cell_type": "code",
   "execution_count": 3,
   "id": "5bb60817-2d67-4e27-842b-8ea4b58a670f",
   "metadata": {},
   "outputs": [],
   "source": [
    "import pandas as pd"
   ]
  },
  {
   "cell_type": "code",
   "execution_count": 4,
   "id": "44a59880-47cb-44d2-8da2-e07a4b40f686",
   "metadata": {},
   "outputs": [],
   "source": [
    "filename = \"data/r2_survey_answers_csv.csv\""
   ]
  },
  {
   "cell_type": "code",
   "execution_count": 11,
   "id": "97908bea-3a09-490d-bc4b-d00b150e50db",
   "metadata": {},
   "outputs": [],
   "source": [
    "df_use = pd.read_csv(\n",
    "    filename, \n",
    "    encoding=\"cp932\",\n",
    "    usecols=[\n",
    "        \"地方公共団体名\",\n",
    "        \"提出状況\",\n",
    "        \"[No.1]良く知っている\",\n",
    "        \"[No.1]知っているが詳細は分からない\",\n",
    "        \"[No.1]名前は知っている\",\n",
    "        \"[No.1]知らない\",\n",
    "        \"[No.2]2020年度中\",\n",
    "        \"[No.2]2021年上期\",\n",
    "        \"[No.2]2021年下期\",\n",
    "        \"[No.2]未計画\",\n",
    "        \"[No.2]オープンデータをすでに公開している\",\n",
    "        \"[No.3]自由記述\",\n",
    "    ]\n",
    ").set_axis(\n",
    "    [\n",
    "        \"自治体名\", \n",
    "        \"提出状況\",\n",
    "        \"良く知っている\", \n",
    "        \"詳細は知らない\", \n",
    "        \"名前は知っている\", \n",
    "        \"知らない\",\n",
    "        \"2020年度中\", \n",
    "        \"2021年上期\", \n",
    "        \"2021年下期\", \n",
    "        \"未計画\", \n",
    "        \"公開済み\",\n",
    "        \"自由記述\"\n",
    "    ],\n",
    "    axis=1\n",
    ").iloc[47:, :]"
   ]
  },
  {
   "cell_type": "code",
   "execution_count": 12,
   "id": "13ae0a45-d3fe-46df-b410-44b03d53be4c",
   "metadata": {},
   "outputs": [
    {
     "data": {
      "text/plain": [
       "(1741, 12)"
      ]
     },
     "execution_count": 12,
     "metadata": {},
     "output_type": "execute_result"
    }
   ],
   "source": [
    "df_use.shape"
   ]
  },
  {
   "cell_type": "code",
   "execution_count": 13,
   "id": "7fc2cb9a-2c1e-467b-84e9-39b09c03b43e",
   "metadata": {},
   "outputs": [
    {
     "data": {
      "text/html": [
       "<div>\n",
       "<style scoped>\n",
       "    .dataframe tbody tr th:only-of-type {\n",
       "        vertical-align: middle;\n",
       "    }\n",
       "\n",
       "    .dataframe tbody tr th {\n",
       "        vertical-align: top;\n",
       "    }\n",
       "\n",
       "    .dataframe thead th {\n",
       "        text-align: right;\n",
       "    }\n",
       "</style>\n",
       "<table border=\"1\" class=\"dataframe\">\n",
       "  <thead>\n",
       "    <tr style=\"text-align: right;\">\n",
       "      <th></th>\n",
       "      <th>自治体名</th>\n",
       "      <th>提出状況</th>\n",
       "      <th>良く知っている</th>\n",
       "      <th>詳細は知らない</th>\n",
       "      <th>名前は知っている</th>\n",
       "      <th>知らない</th>\n",
       "      <th>2020年度中</th>\n",
       "      <th>2021年上期</th>\n",
       "      <th>2021年下期</th>\n",
       "      <th>未計画</th>\n",
       "      <th>公開済み</th>\n",
       "      <th>自由記述</th>\n",
       "    </tr>\n",
       "  </thead>\n",
       "  <tbody>\n",
       "    <tr>\n",
       "      <th>47</th>\n",
       "      <td>北海道 札幌市</td>\n",
       "      <td>提出済</td>\n",
       "      <td>1</td>\n",
       "      <td>0</td>\n",
       "      <td>0</td>\n",
       "      <td>0</td>\n",
       "      <td>0</td>\n",
       "      <td>0</td>\n",
       "      <td>0</td>\n",
       "      <td>0</td>\n",
       "      <td>1</td>\n",
       "      <td>NaN</td>\n",
       "    </tr>\n",
       "    <tr>\n",
       "      <th>48</th>\n",
       "      <td>北海道 函館市</td>\n",
       "      <td>未提出</td>\n",
       "      <td>0</td>\n",
       "      <td>0</td>\n",
       "      <td>0</td>\n",
       "      <td>0</td>\n",
       "      <td>0</td>\n",
       "      <td>0</td>\n",
       "      <td>0</td>\n",
       "      <td>0</td>\n",
       "      <td>0</td>\n",
       "      <td>NaN</td>\n",
       "    </tr>\n",
       "    <tr>\n",
       "      <th>49</th>\n",
       "      <td>北海道 小樽市</td>\n",
       "      <td>提出済</td>\n",
       "      <td>1</td>\n",
       "      <td>0</td>\n",
       "      <td>0</td>\n",
       "      <td>0</td>\n",
       "      <td>0</td>\n",
       "      <td>0</td>\n",
       "      <td>0</td>\n",
       "      <td>0</td>\n",
       "      <td>1</td>\n",
       "      <td>NaN</td>\n",
       "    </tr>\n",
       "    <tr>\n",
       "      <th>50</th>\n",
       "      <td>北海道 旭川市</td>\n",
       "      <td>提出済</td>\n",
       "      <td>1</td>\n",
       "      <td>0</td>\n",
       "      <td>0</td>\n",
       "      <td>0</td>\n",
       "      <td>0</td>\n",
       "      <td>0</td>\n",
       "      <td>0</td>\n",
       "      <td>0</td>\n",
       "      <td>1</td>\n",
       "      <td>NaN</td>\n",
       "    </tr>\n",
       "    <tr>\n",
       "      <th>51</th>\n",
       "      <td>北海道 室蘭市</td>\n",
       "      <td>提出済</td>\n",
       "      <td>1</td>\n",
       "      <td>0</td>\n",
       "      <td>0</td>\n",
       "      <td>0</td>\n",
       "      <td>0</td>\n",
       "      <td>0</td>\n",
       "      <td>0</td>\n",
       "      <td>0</td>\n",
       "      <td>1</td>\n",
       "      <td>NaN</td>\n",
       "    </tr>\n",
       "  </tbody>\n",
       "</table>\n",
       "</div>"
      ],
      "text/plain": [
       "       自治体名 提出状況  良く知っている  詳細は知らない  名前は知っている  知らない  2020年度中  2021年上期  2021年下期  \\\n",
       "47  北海道 札幌市  提出済        1        0         0     0        0        0        0   \n",
       "48  北海道 函館市  未提出        0        0         0     0        0        0        0   \n",
       "49  北海道 小樽市  提出済        1        0         0     0        0        0        0   \n",
       "50  北海道 旭川市  提出済        1        0         0     0        0        0        0   \n",
       "51  北海道 室蘭市  提出済        1        0         0     0        0        0        0   \n",
       "\n",
       "    未計画  公開済み 自由記述  \n",
       "47    0     1  NaN  \n",
       "48    0     0  NaN  \n",
       "49    0     1  NaN  \n",
       "50    0     1  NaN  \n",
       "51    0     1  NaN  "
      ]
     },
     "execution_count": 13,
     "metadata": {},
     "output_type": "execute_result"
    }
   ],
   "source": [
    "df_use.head()"
   ]
  },
  {
   "cell_type": "code",
   "execution_count": 14,
   "id": "cca803e6-5b08-4638-822d-31796ff59911",
   "metadata": {},
   "outputs": [],
   "source": [
    "def get_category(row):\n",
    "    if row.sum() == 0:\n",
    "        return '未回答'\n",
    "    else:\n",
    "        return row.idxmax()"
   ]
  },
  {
   "cell_type": "code",
   "execution_count": 21,
   "id": "e5622028-8df4-428e-9772-cd3f4355ba07",
   "metadata": {},
   "outputs": [],
   "source": [
    "popularity = pd.CategoricalDtype(\n",
    "    categories=[\n",
    "        \"良く知っている\", \n",
    "        \"詳細は知らない\", \n",
    "        \"名前は知っている\", \n",
    "        \"知らない\",\n",
    "    ],\n",
    "    ordered=True,\n",
    ")"
   ]
  },
  {
   "cell_type": "code",
   "execution_count": 22,
   "id": "aa07d44f-cced-419e-8f03-24d2af81b391",
   "metadata": {},
   "outputs": [],
   "source": [
    "df = pd.concat(\n",
    "        [\n",
    "         df_use.loc[:, \"自治体名\"].str.split(\" \", expand=True).astype(\"string\"),\n",
    "         df_use.loc[:, \"提出状況\"].astype(\"category\"),\n",
    "         df_use.loc[:, \"良く知っている\":\"知らない\"].apply(get_category, axis=1).astype(popularity),\n",
    "         df_use.loc[:, \"2020年度中\":\"公開済み\"].apply(get_category, axis=1).astype(\"category\"),\n",
    "         df_use.loc[:, \"自由記述\"],\n",
    "        ],\n",
    "    axis=1,\n",
    ").set_axis([\"都道府県\", \"市町村\", \"提出状況\", \"知名度\", \"公開状況\", \"自由記述\"], axis=1)"
   ]
  },
  {
   "cell_type": "code",
   "execution_count": 23,
   "id": "b0cd8f10-d026-42b4-b86e-7fb17e35b7dc",
   "metadata": {},
   "outputs": [
    {
     "data": {
      "text/html": [
       "<div>\n",
       "<style scoped>\n",
       "    .dataframe tbody tr th:only-of-type {\n",
       "        vertical-align: middle;\n",
       "    }\n",
       "\n",
       "    .dataframe tbody tr th {\n",
       "        vertical-align: top;\n",
       "    }\n",
       "\n",
       "    .dataframe thead th {\n",
       "        text-align: right;\n",
       "    }\n",
       "</style>\n",
       "<table border=\"1\" class=\"dataframe\">\n",
       "  <thead>\n",
       "    <tr style=\"text-align: right;\">\n",
       "      <th></th>\n",
       "      <th>都道府県</th>\n",
       "      <th>市町村</th>\n",
       "      <th>提出状況</th>\n",
       "      <th>知名度</th>\n",
       "      <th>公開状況</th>\n",
       "      <th>自由記述</th>\n",
       "    </tr>\n",
       "  </thead>\n",
       "  <tbody>\n",
       "    <tr>\n",
       "      <th>47</th>\n",
       "      <td>北海道</td>\n",
       "      <td>札幌市</td>\n",
       "      <td>提出済</td>\n",
       "      <td>良く知っている</td>\n",
       "      <td>公開済み</td>\n",
       "      <td>NaN</td>\n",
       "    </tr>\n",
       "    <tr>\n",
       "      <th>48</th>\n",
       "      <td>北海道</td>\n",
       "      <td>函館市</td>\n",
       "      <td>未提出</td>\n",
       "      <td>NaN</td>\n",
       "      <td>未回答</td>\n",
       "      <td>NaN</td>\n",
       "    </tr>\n",
       "    <tr>\n",
       "      <th>49</th>\n",
       "      <td>北海道</td>\n",
       "      <td>小樽市</td>\n",
       "      <td>提出済</td>\n",
       "      <td>良く知っている</td>\n",
       "      <td>公開済み</td>\n",
       "      <td>NaN</td>\n",
       "    </tr>\n",
       "    <tr>\n",
       "      <th>50</th>\n",
       "      <td>北海道</td>\n",
       "      <td>旭川市</td>\n",
       "      <td>提出済</td>\n",
       "      <td>良く知っている</td>\n",
       "      <td>公開済み</td>\n",
       "      <td>NaN</td>\n",
       "    </tr>\n",
       "    <tr>\n",
       "      <th>51</th>\n",
       "      <td>北海道</td>\n",
       "      <td>室蘭市</td>\n",
       "      <td>提出済</td>\n",
       "      <td>良く知っている</td>\n",
       "      <td>公開済み</td>\n",
       "      <td>NaN</td>\n",
       "    </tr>\n",
       "  </tbody>\n",
       "</table>\n",
       "</div>"
      ],
      "text/plain": [
       "   都道府県  市町村 提出状況      知名度  公開状況 自由記述\n",
       "47  北海道  札幌市  提出済  良く知っている  公開済み  NaN\n",
       "48  北海道  函館市  未提出      NaN   未回答  NaN\n",
       "49  北海道  小樽市  提出済  良く知っている  公開済み  NaN\n",
       "50  北海道  旭川市  提出済  良く知っている  公開済み  NaN\n",
       "51  北海道  室蘭市  提出済  良く知っている  公開済み  NaN"
      ]
     },
     "execution_count": 23,
     "metadata": {},
     "output_type": "execute_result"
    }
   ],
   "source": [
    "df.head()"
   ]
  },
  {
   "cell_type": "code",
   "execution_count": 24,
   "id": "f2f61241-76d0-4aaa-8462-b76f52c81659",
   "metadata": {},
   "outputs": [
    {
     "data": {
      "text/plain": [
       "都道府県    string[python]\n",
       "市町村     string[python]\n",
       "提出状況          category\n",
       "知名度           category\n",
       "公開状況          category\n",
       "自由記述            object\n",
       "dtype: object"
      ]
     },
     "execution_count": 24,
     "metadata": {},
     "output_type": "execute_result"
    }
   ],
   "source": [
    "df.dtypes"
   ]
  },
  {
   "cell_type": "code",
   "execution_count": 25,
   "id": "d0049830-6054-4bb0-9dc2-341323b35951",
   "metadata": {},
   "outputs": [],
   "source": [
    "df.to_pickle(\"df-sumarry.pkl\")"
   ]
  },
  {
   "cell_type": "code",
   "execution_count": null,
   "id": "82b5ec58-fd7b-4ddb-9f8a-a2939dfd4737",
   "metadata": {},
   "outputs": [],
   "source": []
  }
 ],
 "metadata": {
  "kernelspec": {
   "display_name": "Python 3 (ipykernel)",
   "language": "python",
   "name": "python3"
  },
  "language_info": {
   "codemirror_mode": {
    "name": "ipython",
    "version": 3
   },
   "file_extension": ".py",
   "mimetype": "text/x-python",
   "name": "python",
   "nbconvert_exporter": "python",
   "pygments_lexer": "ipython3",
   "version": "3.10.11"
  }
 },
 "nbformat": 4,
 "nbformat_minor": 5
}
