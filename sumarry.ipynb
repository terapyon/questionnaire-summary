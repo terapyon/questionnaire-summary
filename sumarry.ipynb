{
 "cells": [
  {
   "cell_type": "code",
   "execution_count": 1,
   "id": "5bb60817-2d67-4e27-842b-8ea4b58a670f",
   "metadata": {},
   "outputs": [],
   "source": [
    "import pandas as pd"
   ]
  },
  {
   "cell_type": "code",
   "execution_count": 2,
   "id": "44a59880-47cb-44d2-8da2-e07a4b40f686",
   "metadata": {},
   "outputs": [],
   "source": [
    "filename = \"data/r2_survey_answers_csv.csv\""
   ]
  },
  {
   "cell_type": "code",
   "execution_count": 3,
   "id": "97908bea-3a09-490d-bc4b-d00b150e50db",
   "metadata": {},
   "outputs": [],
   "source": [
    "df_raw = pd.read_csv(filename, encoding=\"cp932\")"
   ]
  },
  {
   "cell_type": "code",
   "execution_count": 4,
   "id": "13ae0a45-d3fe-46df-b410-44b03d53be4c",
   "metadata": {},
   "outputs": [
    {
     "data": {
      "text/plain": [
       "(1788, 294)"
      ]
     },
     "execution_count": 4,
     "metadata": {},
     "output_type": "execute_result"
    }
   ],
   "source": [
    "df_raw.shape"
   ]
  },
  {
   "cell_type": "code",
   "execution_count": 5,
   "id": "900979ec-e19b-40a0-b046-7a13297ff232",
   "metadata": {},
   "outputs": [],
   "source": [
    "df_use = df_raw.iloc[47:, 1:13]\n",
    "df_use.columns = [\n",
    "    \"自治体名\", \"提出状況\",\n",
    "    \"よく知っている\", \"詳細は知らない\", \"名前は知っている\", \"知らない\",\n",
    "    \"2020年度中\", \"2021年上期\", \"2021年下期\", \"未計画\", \"公開済み\",\n",
    "    \"自由記述\"\n",
    "]"
   ]
  },
  {
   "cell_type": "code",
   "execution_count": 6,
   "id": "ca17aa68-1102-4c44-8471-baff4b101a0e",
   "metadata": {},
   "outputs": [
    {
     "data": {
      "text/plain": [
       "(1741, 12)"
      ]
     },
     "execution_count": 6,
     "metadata": {},
     "output_type": "execute_result"
    }
   ],
   "source": [
    "df_use.shape"
   ]
  },
  {
   "cell_type": "code",
   "execution_count": 7,
   "id": "7fc2cb9a-2c1e-467b-84e9-39b09c03b43e",
   "metadata": {},
   "outputs": [
    {
     "data": {
      "text/html": [
       "<div>\n",
       "<style scoped>\n",
       "    .dataframe tbody tr th:only-of-type {\n",
       "        vertical-align: middle;\n",
       "    }\n",
       "\n",
       "    .dataframe tbody tr th {\n",
       "        vertical-align: top;\n",
       "    }\n",
       "\n",
       "    .dataframe thead th {\n",
       "        text-align: right;\n",
       "    }\n",
       "</style>\n",
       "<table border=\"1\" class=\"dataframe\">\n",
       "  <thead>\n",
       "    <tr style=\"text-align: right;\">\n",
       "      <th></th>\n",
       "      <th>自治体名</th>\n",
       "      <th>提出状況</th>\n",
       "      <th>よく知っている</th>\n",
       "      <th>詳細は知らない</th>\n",
       "      <th>名前は知っている</th>\n",
       "      <th>知らない</th>\n",
       "      <th>2020年度中</th>\n",
       "      <th>2021年上期</th>\n",
       "      <th>2021年下期</th>\n",
       "      <th>未計画</th>\n",
       "      <th>公開済み</th>\n",
       "      <th>自由記述</th>\n",
       "    </tr>\n",
       "  </thead>\n",
       "  <tbody>\n",
       "    <tr>\n",
       "      <th>47</th>\n",
       "      <td>北海道 札幌市</td>\n",
       "      <td>提出済</td>\n",
       "      <td>1</td>\n",
       "      <td>0</td>\n",
       "      <td>0</td>\n",
       "      <td>0</td>\n",
       "      <td>0</td>\n",
       "      <td>0</td>\n",
       "      <td>0</td>\n",
       "      <td>0</td>\n",
       "      <td>1</td>\n",
       "      <td>NaN</td>\n",
       "    </tr>\n",
       "    <tr>\n",
       "      <th>48</th>\n",
       "      <td>北海道 函館市</td>\n",
       "      <td>未提出</td>\n",
       "      <td>0</td>\n",
       "      <td>0</td>\n",
       "      <td>0</td>\n",
       "      <td>0</td>\n",
       "      <td>0</td>\n",
       "      <td>0</td>\n",
       "      <td>0</td>\n",
       "      <td>0</td>\n",
       "      <td>0</td>\n",
       "      <td>NaN</td>\n",
       "    </tr>\n",
       "    <tr>\n",
       "      <th>49</th>\n",
       "      <td>北海道 小樽市</td>\n",
       "      <td>提出済</td>\n",
       "      <td>1</td>\n",
       "      <td>0</td>\n",
       "      <td>0</td>\n",
       "      <td>0</td>\n",
       "      <td>0</td>\n",
       "      <td>0</td>\n",
       "      <td>0</td>\n",
       "      <td>0</td>\n",
       "      <td>1</td>\n",
       "      <td>NaN</td>\n",
       "    </tr>\n",
       "    <tr>\n",
       "      <th>50</th>\n",
       "      <td>北海道 旭川市</td>\n",
       "      <td>提出済</td>\n",
       "      <td>1</td>\n",
       "      <td>0</td>\n",
       "      <td>0</td>\n",
       "      <td>0</td>\n",
       "      <td>0</td>\n",
       "      <td>0</td>\n",
       "      <td>0</td>\n",
       "      <td>0</td>\n",
       "      <td>1</td>\n",
       "      <td>NaN</td>\n",
       "    </tr>\n",
       "    <tr>\n",
       "      <th>51</th>\n",
       "      <td>北海道 室蘭市</td>\n",
       "      <td>提出済</td>\n",
       "      <td>1</td>\n",
       "      <td>0</td>\n",
       "      <td>0</td>\n",
       "      <td>0</td>\n",
       "      <td>0</td>\n",
       "      <td>0</td>\n",
       "      <td>0</td>\n",
       "      <td>0</td>\n",
       "      <td>1</td>\n",
       "      <td>NaN</td>\n",
       "    </tr>\n",
       "  </tbody>\n",
       "</table>\n",
       "</div>"
      ],
      "text/plain": [
       "       自治体名 提出状況  よく知っている  詳細は知らない  名前は知っている  知らない  2020年度中  2021年上期  2021年下期  \\\n",
       "47  北海道 札幌市  提出済        1        0         0     0        0        0        0   \n",
       "48  北海道 函館市  未提出        0        0         0     0        0        0        0   \n",
       "49  北海道 小樽市  提出済        1        0         0     0        0        0        0   \n",
       "50  北海道 旭川市  提出済        1        0         0     0        0        0        0   \n",
       "51  北海道 室蘭市  提出済        1        0         0     0        0        0        0   \n",
       "\n",
       "    未計画  公開済み 自由記述  \n",
       "47    0     1  NaN  \n",
       "48    0     0  NaN  \n",
       "49    0     1  NaN  \n",
       "50    0     1  NaN  \n",
       "51    0     1  NaN  "
      ]
     },
     "execution_count": 7,
     "metadata": {},
     "output_type": "execute_result"
    }
   ],
   "source": [
    "df_use.head()"
   ]
  },
  {
   "cell_type": "code",
   "execution_count": 8,
   "id": "682de2ca-3acf-439b-8b56-f1c099349d4f",
   "metadata": {},
   "outputs": [
    {
     "data": {
      "text/plain": [
       "47       [北海道, 札幌市]\n",
       "48       [北海道, 函館市]\n",
       "49       [北海道, 小樽市]\n",
       "50       [北海道, 旭川市]\n",
       "51       [北海道, 室蘭市]\n",
       "           ...     \n",
       "1783    [沖縄県, 久米島町]\n",
       "1784    [沖縄県, 八重瀬町]\n",
       "1785    [沖縄県, 多良間村]\n",
       "1786     [沖縄県, 竹富町]\n",
       "1787    [沖縄県, 与那国町]\n",
       "Name: 自治体名, Length: 1741, dtype: object"
      ]
     },
     "execution_count": 8,
     "metadata": {},
     "output_type": "execute_result"
    }
   ],
   "source": [
    "df_use.iloc[:, 0].str.split(\" \")"
   ]
  },
  {
   "cell_type": "code",
   "execution_count": 9,
   "id": "763e1fb3-a3fc-4b31-a732-1a2bcd6bb8f7",
   "metadata": {},
   "outputs": [],
   "source": [
    "df_no1 = df_use.iloc[:, 2:6]"
   ]
  },
  {
   "cell_type": "code",
   "execution_count": 10,
   "id": "fbf1eab3-7f71-4de0-b175-3b219dc180bc",
   "metadata": {},
   "outputs": [
    {
     "data": {
      "text/html": [
       "<div>\n",
       "<style scoped>\n",
       "    .dataframe tbody tr th:only-of-type {\n",
       "        vertical-align: middle;\n",
       "    }\n",
       "\n",
       "    .dataframe tbody tr th {\n",
       "        vertical-align: top;\n",
       "    }\n",
       "\n",
       "    .dataframe thead th {\n",
       "        text-align: right;\n",
       "    }\n",
       "</style>\n",
       "<table border=\"1\" class=\"dataframe\">\n",
       "  <thead>\n",
       "    <tr style=\"text-align: right;\">\n",
       "      <th></th>\n",
       "      <th>よく知っている</th>\n",
       "      <th>詳細は知らない</th>\n",
       "      <th>名前は知っている</th>\n",
       "      <th>知らない</th>\n",
       "    </tr>\n",
       "  </thead>\n",
       "  <tbody>\n",
       "    <tr>\n",
       "      <th>47</th>\n",
       "      <td>1</td>\n",
       "      <td>0</td>\n",
       "      <td>0</td>\n",
       "      <td>0</td>\n",
       "    </tr>\n",
       "    <tr>\n",
       "      <th>48</th>\n",
       "      <td>0</td>\n",
       "      <td>0</td>\n",
       "      <td>0</td>\n",
       "      <td>0</td>\n",
       "    </tr>\n",
       "    <tr>\n",
       "      <th>49</th>\n",
       "      <td>1</td>\n",
       "      <td>0</td>\n",
       "      <td>0</td>\n",
       "      <td>0</td>\n",
       "    </tr>\n",
       "    <tr>\n",
       "      <th>50</th>\n",
       "      <td>1</td>\n",
       "      <td>0</td>\n",
       "      <td>0</td>\n",
       "      <td>0</td>\n",
       "    </tr>\n",
       "    <tr>\n",
       "      <th>51</th>\n",
       "      <td>1</td>\n",
       "      <td>0</td>\n",
       "      <td>0</td>\n",
       "      <td>0</td>\n",
       "    </tr>\n",
       "  </tbody>\n",
       "</table>\n",
       "</div>"
      ],
      "text/plain": [
       "    よく知っている  詳細は知らない  名前は知っている  知らない\n",
       "47        1        0         0     0\n",
       "48        0        0         0     0\n",
       "49        1        0         0     0\n",
       "50        1        0         0     0\n",
       "51        1        0         0     0"
      ]
     },
     "execution_count": 10,
     "metadata": {},
     "output_type": "execute_result"
    }
   ],
   "source": [
    "df_no1.head()"
   ]
  },
  {
   "cell_type": "code",
   "execution_count": 11,
   "id": "cca803e6-5b08-4638-822d-31796ff59911",
   "metadata": {},
   "outputs": [],
   "source": [
    "def get_category(row):\n",
    "    if row.sum() == 0:\n",
    "        return '未回答'\n",
    "    else:\n",
    "        return row.idxmax()"
   ]
  },
  {
   "cell_type": "code",
   "execution_count": 12,
   "id": "ca153682-196e-43df-a2a5-78b2e4fd98da",
   "metadata": {},
   "outputs": [
    {
     "data": {
      "text/plain": [
       "47       よく知っている\n",
       "48           未回答\n",
       "49       よく知っている\n",
       "50       よく知っている\n",
       "51       よく知っている\n",
       "          ...   \n",
       "1783     詳細は知らない\n",
       "1784     よく知っている\n",
       "1785    名前は知っている\n",
       "1786     詳細は知らない\n",
       "1787     詳細は知らない\n",
       "Length: 1741, dtype: object"
      ]
     },
     "execution_count": 12,
     "metadata": {},
     "output_type": "execute_result"
    }
   ],
   "source": [
    "df_no1.apply(get_category, axis=1)"
   ]
  },
  {
   "cell_type": "code",
   "execution_count": 13,
   "id": "7bf17091-66d3-46d9-b87e-623e4cb5dd0d",
   "metadata": {},
   "outputs": [],
   "source": [
    "df_no2 = df_use.iloc[:, 6:11]"
   ]
  },
  {
   "cell_type": "code",
   "execution_count": 14,
   "id": "a02fccb6-4766-4a9d-8b15-baf49c818cb7",
   "metadata": {},
   "outputs": [
    {
     "data": {
      "text/html": [
       "<div>\n",
       "<style scoped>\n",
       "    .dataframe tbody tr th:only-of-type {\n",
       "        vertical-align: middle;\n",
       "    }\n",
       "\n",
       "    .dataframe tbody tr th {\n",
       "        vertical-align: top;\n",
       "    }\n",
       "\n",
       "    .dataframe thead th {\n",
       "        text-align: right;\n",
       "    }\n",
       "</style>\n",
       "<table border=\"1\" class=\"dataframe\">\n",
       "  <thead>\n",
       "    <tr style=\"text-align: right;\">\n",
       "      <th></th>\n",
       "      <th>2020年度中</th>\n",
       "      <th>2021年上期</th>\n",
       "      <th>2021年下期</th>\n",
       "      <th>未計画</th>\n",
       "      <th>公開済み</th>\n",
       "    </tr>\n",
       "  </thead>\n",
       "  <tbody>\n",
       "    <tr>\n",
       "      <th>47</th>\n",
       "      <td>0</td>\n",
       "      <td>0</td>\n",
       "      <td>0</td>\n",
       "      <td>0</td>\n",
       "      <td>1</td>\n",
       "    </tr>\n",
       "    <tr>\n",
       "      <th>48</th>\n",
       "      <td>0</td>\n",
       "      <td>0</td>\n",
       "      <td>0</td>\n",
       "      <td>0</td>\n",
       "      <td>0</td>\n",
       "    </tr>\n",
       "    <tr>\n",
       "      <th>49</th>\n",
       "      <td>0</td>\n",
       "      <td>0</td>\n",
       "      <td>0</td>\n",
       "      <td>0</td>\n",
       "      <td>1</td>\n",
       "    </tr>\n",
       "    <tr>\n",
       "      <th>50</th>\n",
       "      <td>0</td>\n",
       "      <td>0</td>\n",
       "      <td>0</td>\n",
       "      <td>0</td>\n",
       "      <td>1</td>\n",
       "    </tr>\n",
       "    <tr>\n",
       "      <th>51</th>\n",
       "      <td>0</td>\n",
       "      <td>0</td>\n",
       "      <td>0</td>\n",
       "      <td>0</td>\n",
       "      <td>1</td>\n",
       "    </tr>\n",
       "  </tbody>\n",
       "</table>\n",
       "</div>"
      ],
      "text/plain": [
       "    2020年度中  2021年上期  2021年下期  未計画  公開済み\n",
       "47        0        0        0    0     1\n",
       "48        0        0        0    0     0\n",
       "49        0        0        0    0     1\n",
       "50        0        0        0    0     1\n",
       "51        0        0        0    0     1"
      ]
     },
     "execution_count": 14,
     "metadata": {},
     "output_type": "execute_result"
    }
   ],
   "source": [
    "df_no2.head()"
   ]
  },
  {
   "cell_type": "code",
   "execution_count": 15,
   "id": "953bef8b-2f17-49c0-8256-64cb1b2ebf2a",
   "metadata": {},
   "outputs": [
    {
     "data": {
      "text/plain": [
       "47         公開済み\n",
       "48          未回答\n",
       "49         公開済み\n",
       "50         公開済み\n",
       "51         公開済み\n",
       "         ...   \n",
       "1783    2021年下期\n",
       "1784    2021年下期\n",
       "1785        未計画\n",
       "1786        未計画\n",
       "1787        未計画\n",
       "Length: 1741, dtype: object"
      ]
     },
     "execution_count": 15,
     "metadata": {},
     "output_type": "execute_result"
    }
   ],
   "source": [
    "df_no2.apply(get_category, axis=1)"
   ]
  },
  {
   "cell_type": "code",
   "execution_count": 16,
   "id": "aa07d44f-cced-419e-8f03-24d2af81b391",
   "metadata": {},
   "outputs": [],
   "source": [
    "df = pd.concat(\n",
    "        [\n",
    "         df_use.iloc[:, 0].str.split(\" \", expand=True),\n",
    "         df_use.iloc[:, [1]],\n",
    "         df_use.iloc[:, 2:6].apply(get_category, axis=1),\n",
    "         df_use.iloc[:, 6:11].apply(get_category, axis=1),\n",
    "         df_use.iloc[:, 11]\n",
    "        ],\n",
    "    axis=1,\n",
    ")"
   ]
  },
  {
   "cell_type": "code",
   "execution_count": 17,
   "id": "a86794c6-63a1-4a0f-a5ca-2a00b9f37484",
   "metadata": {},
   "outputs": [],
   "source": [
    "df.columns = [\"都道府県\", \"市町村\", \"提出状況\", \"知名度\", \"公開状況\", \"自由記述\"]"
   ]
  },
  {
   "cell_type": "code",
   "execution_count": 18,
   "id": "861daa87-0201-4cb0-8ad9-a7de713e3678",
   "metadata": {},
   "outputs": [],
   "source": [
    "df = df.astype({\n",
    "    \"都道府県\": \"string\", \"市町村\": \"string\",\n",
    "    \"提出状況\": \"category\", \"知名度\": \"category\", \"公開状況\": \"category\", \"自由記述\": \"string\"})"
   ]
  },
  {
   "cell_type": "code",
   "execution_count": 19,
   "id": "b0cd8f10-d026-42b4-b86e-7fb17e35b7dc",
   "metadata": {},
   "outputs": [
    {
     "data": {
      "text/html": [
       "<div>\n",
       "<style scoped>\n",
       "    .dataframe tbody tr th:only-of-type {\n",
       "        vertical-align: middle;\n",
       "    }\n",
       "\n",
       "    .dataframe tbody tr th {\n",
       "        vertical-align: top;\n",
       "    }\n",
       "\n",
       "    .dataframe thead th {\n",
       "        text-align: right;\n",
       "    }\n",
       "</style>\n",
       "<table border=\"1\" class=\"dataframe\">\n",
       "  <thead>\n",
       "    <tr style=\"text-align: right;\">\n",
       "      <th></th>\n",
       "      <th>都道府県</th>\n",
       "      <th>市町村</th>\n",
       "      <th>提出状況</th>\n",
       "      <th>知名度</th>\n",
       "      <th>公開状況</th>\n",
       "      <th>自由記述</th>\n",
       "    </tr>\n",
       "  </thead>\n",
       "  <tbody>\n",
       "    <tr>\n",
       "      <th>47</th>\n",
       "      <td>北海道</td>\n",
       "      <td>札幌市</td>\n",
       "      <td>提出済</td>\n",
       "      <td>よく知っている</td>\n",
       "      <td>公開済み</td>\n",
       "      <td>&lt;NA&gt;</td>\n",
       "    </tr>\n",
       "    <tr>\n",
       "      <th>48</th>\n",
       "      <td>北海道</td>\n",
       "      <td>函館市</td>\n",
       "      <td>未提出</td>\n",
       "      <td>未回答</td>\n",
       "      <td>未回答</td>\n",
       "      <td>&lt;NA&gt;</td>\n",
       "    </tr>\n",
       "    <tr>\n",
       "      <th>49</th>\n",
       "      <td>北海道</td>\n",
       "      <td>小樽市</td>\n",
       "      <td>提出済</td>\n",
       "      <td>よく知っている</td>\n",
       "      <td>公開済み</td>\n",
       "      <td>&lt;NA&gt;</td>\n",
       "    </tr>\n",
       "    <tr>\n",
       "      <th>50</th>\n",
       "      <td>北海道</td>\n",
       "      <td>旭川市</td>\n",
       "      <td>提出済</td>\n",
       "      <td>よく知っている</td>\n",
       "      <td>公開済み</td>\n",
       "      <td>&lt;NA&gt;</td>\n",
       "    </tr>\n",
       "    <tr>\n",
       "      <th>51</th>\n",
       "      <td>北海道</td>\n",
       "      <td>室蘭市</td>\n",
       "      <td>提出済</td>\n",
       "      <td>よく知っている</td>\n",
       "      <td>公開済み</td>\n",
       "      <td>&lt;NA&gt;</td>\n",
       "    </tr>\n",
       "  </tbody>\n",
       "</table>\n",
       "</div>"
      ],
      "text/plain": [
       "   都道府県  市町村 提出状況      知名度  公開状況  自由記述\n",
       "47  北海道  札幌市  提出済  よく知っている  公開済み  <NA>\n",
       "48  北海道  函館市  未提出      未回答   未回答  <NA>\n",
       "49  北海道  小樽市  提出済  よく知っている  公開済み  <NA>\n",
       "50  北海道  旭川市  提出済  よく知っている  公開済み  <NA>\n",
       "51  北海道  室蘭市  提出済  よく知っている  公開済み  <NA>"
      ]
     },
     "execution_count": 19,
     "metadata": {},
     "output_type": "execute_result"
    }
   ],
   "source": [
    "df.head()"
   ]
  },
  {
   "cell_type": "code",
   "execution_count": 20,
   "id": "f2f61241-76d0-4aaa-8462-b76f52c81659",
   "metadata": {},
   "outputs": [
    {
     "data": {
      "text/plain": [
       "都道府県    string[python]\n",
       "市町村     string[python]\n",
       "提出状況          category\n",
       "知名度           category\n",
       "公開状況          category\n",
       "自由記述    string[python]\n",
       "dtype: object"
      ]
     },
     "execution_count": 20,
     "metadata": {},
     "output_type": "execute_result"
    }
   ],
   "source": [
    "df.dtypes"
   ]
  },
  {
   "cell_type": "code",
   "execution_count": 1,
   "id": "d0049830-6054-4bb0-9dc2-341323b35951",
   "metadata": {},
   "outputs": [
    {
     "ename": "NameError",
     "evalue": "name 'df' is not defined",
     "output_type": "error",
     "traceback": [
      "\u001b[0;31m---------------------------------------------------------------------------\u001b[0m",
      "\u001b[0;31mNameError\u001b[0m                                 Traceback (most recent call last)",
      "Cell \u001b[0;32mIn[1], line 1\u001b[0m\n\u001b[0;32m----> 1\u001b[0m \u001b[43mdf\u001b[49m\u001b[38;5;241m.\u001b[39mto_pickle(\u001b[38;5;124m\"\u001b[39m\u001b[38;5;124mdf-sumarry.pkl\u001b[39m\u001b[38;5;124m\"\u001b[39m)\n",
      "\u001b[0;31mNameError\u001b[0m: name 'df' is not defined"
     ]
    }
   ],
   "source": [
    "df.to_pickle(\"df-sumarry.pkl\")"
   ]
  },
  {
   "cell_type": "code",
   "execution_count": null,
   "id": "73ea7d0d-a786-421b-a2df-950651ec171f",
   "metadata": {},
   "outputs": [],
   "source": []
  },
  {
   "cell_type": "code",
   "execution_count": null,
   "id": "427addc4-99be-4639-96b3-495907bfb128",
   "metadata": {},
   "outputs": [],
   "source": []
  },
  {
   "cell_type": "code",
   "execution_count": null,
   "id": "26897aa8-f2de-4a67-99e4-0513dd7a2d2e",
   "metadata": {},
   "outputs": [],
   "source": []
  },
  {
   "cell_type": "code",
   "execution_count": null,
   "id": "6d428ddc-8853-4e6e-829d-8ecb2b19201c",
   "metadata": {},
   "outputs": [],
   "source": []
  }
 ],
 "metadata": {
  "kernelspec": {
   "display_name": "Python 3 (ipykernel)",
   "language": "python",
   "name": "python3"
  },
  "language_info": {
   "codemirror_mode": {
    "name": "ipython",
    "version": 3
   },
   "file_extension": ".py",
   "mimetype": "text/x-python",
   "name": "python",
   "nbconvert_exporter": "python",
   "pygments_lexer": "ipython3",
   "version": "3.10.11"
  }
 },
 "nbformat": 4,
 "nbformat_minor": 5
}
